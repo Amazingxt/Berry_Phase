{
 "cells": [
  {
   "cell_type": "markdown",
   "metadata": {},
   "source": [
    "# import modules"
   ]
  },
  {
   "cell_type": "code",
   "execution_count": 1,
   "metadata": {
    "collapsed": true
   },
   "outputs": [],
   "source": [
    "from datetime import datetime\n",
    "import gzip\n",
    "import numpy as np\n",
    "from scipy.linalg import eig,norm\n",
    "from math import *\n",
    "from qutip import parfor,qeye,sigmax,sigmay,sigmaz\n",
    "from qutip import *\n",
    "np.set_printoptions(precision=3)\n",
    "from IPython.display import display\n",
    "import seaborn as sns\n",
    "import mpltex\n",
    "import matplotlib.pyplot as plt\n",
    "try:    \n",
    "    import cPickle as pickle \n",
    "except:    \n",
    "    import pickle as pickle\n",
    "\n",
    "%matplotlib inline\n",
    "\n",
    "import pandas as pd\n",
    "from os import listdir\n",
    "from os.path import isfile, join"
   ]
  },
  {
   "cell_type": "markdown",
   "metadata": {},
   "source": [
    "用于plot的数据主要来自./data/6.20(6.22\\6.24\\6.25\\6.27\\bp_8.7) 等几个文件夹，并且用文件 AnalyzeData.ipynb 进行数据分析，得到下面的结果:\n",
    " - 每个数据点由100次测量统计而成，100个数据每20一组分为5组，统计平均值和标准差\n",
    " - 每次测量N=5，readout=100"
   ]
  },
  {
   "cell_type": "markdown",
   "metadata": {},
   "source": [
    "## import data"
   ]
  },
  {
   "cell_type": "markdown",
   "metadata": {},
   "source": [
    "固定$\\alpha=200e6$，变化tau的结果,tau=10**(1,0.5,0,-0.5,-1,-1.5,-2,-2.5,-3,-3.5,-4)"
   ]
  },
  {
   "cell_type": "code",
   "execution_count": 27,
   "metadata": {
    "collapsed": true
   },
   "outputs": [],
   "source": [
    "scheme1_se_tau = [0.982,0.981,0.980,0.972,0.950,0.887,0.766,0.581,0.442,0.473,0.439]\n",
    "scheme1_cpmg_tau = [0.997,0.998,0.997,0.994,0.988,0.9676,0.920,0.785,0.626,0.523,0.493]\n",
    "scheme2_tau = [0.948,0.939,0.934,0.937,0.922,0.889,0.761,0.540,0.305,0.224,0.238]\n",
    "\n",
    "scheme1_cpmg_tau_exper = [[0.88, 0.89, 0.88, 0.90, 0.91],[0.89, 0.91, 0.90, 0.90, 0.90],[0.88, 0.89, 0.90, 0.90, 0.88],\\\n",
    "                    [0.88, 0.88, 0.89, 0.88, 0.9],[0.82, 0.88, 0.9, 0.89, 0.87],[0.84, 0.82, 0.83, 0.86, 0.89],\\\n",
    "                    [0.83, 0.83, 0.77, 0.75, 0.83],[0.68, 0.77, 0.56, 0.71, 0.7],[0.35, 0.49, 0.32, 0.62, 0.56],\\\n",
    "                    [0.46, 0.46, 0.49, 0.54, 0.58],[0.12, 0.39, 0.53, 0.33, 0.47]]\n",
    "scheme1_se_tau_exper = [[0.89, 0.86, 0.9, 0.86, 0.83],[0.86, 0.87, 0.86, 0.87, 0.87],[0.85, 0.88, 0.84, 0.85, 0.86],\\\n",
    "                    [0.85, 0.84, 0.81, 0.86, 0.85],[0.84, 0.83, 0.87, 0.85, 0.86],[0.78, 0.76, 0.76, 0.71, 0.79],\\\n",
    "                    [0.73, 0.6, 0.72, 0.56, 0.78],[0.42, 0.47, 0.65, 0.39, 0.48],[0.29, 0.19, 0.6, 0.24, 0.35],\\\n",
    "                    [0.55, 0.6, 0.56, 0.31, 0.11],[0.53, 0.52, 0.43, 0.53, 0.23]]\n",
    "scheme2_tau_exper = [[0.7, 0.75, 0.79, 0.74, 0.76],[0.82, 0.8, 0.83, 0.75, 0.81],[0.83, 0.77, 0.75, 0.78, 0.74],\\\n",
    "              [0.79, 0.83, 0.79, 0.75, 0.78],[0.81, 0.76, 0.76, 0.75, 0.82],[0.6, 0.74, 0.77, 0.61, 0.79],\\\n",
    "              [0.6, 0.71, 0.69, 0.62, 0.75],[0.44, 0.56, 0.44, 0.47, 0.28],[0.43, 0.5, 0.37, 0.29, 0.45],\\\n",
    "              [0.21, 0.48, 0.4, 0.21, 0.07],[0.41, 0.21, 0.04, 0.24, 0.05]]"
   ]
  },
  {
   "cell_type": "markdown",
   "metadata": {},
   "source": [
    "固定$\\tau=0.01$,变化$\\alpha$的结果，alpha=100e(4,4.5,5,5.5,6,6.5,7,7.5)"
   ]
  },
  {
   "cell_type": "code",
   "execution_count": 3,
   "metadata": {
    "collapsed": true
   },
   "outputs": [],
   "source": [
    "scheme1_se_alpha = [0.98,0.98,0.98,0.97,0.878,0.560,0.412,0.270]\n",
    "scheme1_cpmg_alpha = [0.999,0.999,0.998,0.993,0.970,0.839,0.392,0.202]\n",
    "scheme2_alpha = [0.997,0.994,0.988,0.967,0.918,0.666,0.300,0.091]"
   ]
  },
  {
   "cell_type": "markdown",
   "metadata": {},
   "source": [
    "FID"
   ]
  },
  {
   "cell_type": "code",
   "execution_count": 4,
   "metadata": {
    "collapsed": true
   },
   "outputs": [],
   "source": [
    "FID = [[0.35, 0.37, 0.37, 0.22, 0.05],[0.67, 0.46, 0.29, 0.3, 0.71],[0.61, 0.58, 0.61, 0.67, 0.33],\\\n",
    " [0.87, 0.86, 0.84, 0.9, 0.87], [0.98, 0.98, 0.98, 0.98, 0.97],[0.92, 0.96, 0.93, 0.93, 0.9],\\\n",
    " [0.71, 0.73, 0.79, 0.7, 0.72],[0.52, 0.47, 0.49, 0.59, 0.52],[0.43, 0.51, 0.53, 0.1, 0.1]]"
   ]
  },
  {
   "cell_type": "markdown",
   "metadata": {},
   "source": [
    "不添加噪声的情况下"
   ]
  },
  {
   "cell_type": "code",
   "execution_count": 5,
   "metadata": {
    "collapsed": true
   },
   "outputs": [],
   "source": [
    "bp_se_no_noise = [[1.0], [0.96], [0.95], [0.81], [0.98], [0.91], [0.88], [0.4], [0.9]]\n",
    "bp_cpmg_no_noise = [[0.98], [0.98], [0.95], [0.69], [0.92], [0.98], [0.92], [0.58], [0.84]]\n",
    "scheme1_se_no_noise = [[1.03], [0.97], [0.81], [0.97], [0.71], [0.81], [0.38], [0.51], [0.89]]\n",
    "scheme1_cpmg_no_noise = [[0.99], [0.91], [0.73], [0.34], [0.89], [1.0], [0.72], [0.43], [0.98]]\n",
    "scheme2_no_noise = [[0.98], [0.96], [0.99], [0.87], [0.97], [0.98], [0.97], [0.45], [0.88]]"
   ]
  },
  {
   "cell_type": "markdown",
   "metadata": {},
   "source": [
    "理论模拟出来的值（用统计400次平均的结果）"
   ]
  },
  {
   "cell_type": "code",
   "execution_count": 6,
   "metadata": {
    "collapsed": true
   },
   "outputs": [],
   "source": [
    "bp_se_thero = [0.99,0.99,0.97,0.92,0.78,0.62,0.45,0.31,0.20]\n",
    "scheme1_se_thero = [0.99,0.99,0.99,0.98,0.98,0.98,0.98,0.96,0.99]\n",
    "scheme2_thero = [0.99,0.99,0.99,0.99,0.98,0.95,0.92,0.95,0.97]\n",
    "bp_cpmg_thero = [0.99,0.99,0.97,0.89,0.78,0.62,0.53,0.26,0.19]\n",
    "scheme1_cpmg_thero = [0.99,0.99,0.99,0.98,0.98,0.99,0.98,0.95,0.99]"
   ]
  },
  {
   "cell_type": "markdown",
   "metadata": {},
   "source": [
    "实验测出的值，已经经过处理"
   ]
  },
  {
   "cell_type": "code",
   "execution_count": 7,
   "metadata": {
    "collapsed": true
   },
   "outputs": [],
   "source": [
    "scheme1_se_exper = [[0.977,0.966,0.969,0.973,0.976],[0.978,0.971,0.975,0.965,0.986],[0.962,0.919,0.948,0.961,0.958],\\\n",
    "                    [0.9,0.889,0.889,0.907,0.89],[0.859,0.855,0.854,0.877,0.878],[0.928,0.906,0.914,0.924,0.916],\\\n",
    "                    [0.953,0.955,0.935,0.944,0.941],[0.8,0.818,0.828,0.794,0.829],[0.889,0.894,0.892,0.878,0.890]]\n",
    "se_exper = [[0.967,0.975,0.972,0.976,0.981],[0.981,0.968,0.971,0.981,0.988],[0.951,0.943,0.948,0.954,0.930],\\\n",
    "            [0.844,0.850,0.795,0.876,0.824],[0.716,0.636,0.554,0.627,0.690],[0.46,0.340,0.688,0.634,0.619],\\\n",
    "            [0.366,0.479,0.513,0.655,0.144],[0.266,0.435,0.488,0.057,0.064],[0.129,0.081,0.385,0.242,0.054]]\n",
    "scheme2_exper = [[0.951,0.952,0.957,0.955,0.960],[0.932,0.939,0.962,0.945,0.933],[0.953,0.967,0.961,0.964,0.959],\\\n",
    "           [0.983,0.974,0.986,0.977,0.981],[0.935,0.931,0.931,0.936,0.929],[0.838,0.786,0.847,0.846,0.829],\\\n",
    "           [0.802,0.821,0.796,0.755,0.758],[0.917,0.940,0.899,0.896,0.870],[0.877,0.926,0.883,0.901,0.880]]\n",
    "cpmg_exper = [[0.977,0.977,0.971,0.982,0.974],[0.961,0.975,0.971,0.964,0.989],[0.933,0.960,0.961,0.969,0.974],\\\n",
    "              [0.877,0.847,0.828,0.830,0.877],[0.705,0.672,0.658,0.730,0.630],[0.469,0.669,0.672,0.648,0.621],\\\n",
    "              [0.535,0.364,0.420,0.363,0.535],[0.471,0.410,0.691,0.495,0.074],[0.433,0.126,0.295,0.383,0.351]]\n",
    "scheme1_cpmg_exper = [[0.974,0.984,0.977,0.979,0.987],[0.980,0.970,0.736,0.978,0.968],[0.968,0.964,0.967,0.968,0.967],\\\n",
    "                [0.924,0.922,0.918,0.926,0.918],[0.866,0.855,0.853,0.862,0.853],[0.940,0.938,0.939,0.950,0.941],\\\n",
    "                [0.939,0.958,0.961,0.962,0.956],[0.853,0.762,0.834,0.780,0.762],[0.883,0.914,0.927,0.887,0.901]]"
   ]
  },
  {
   "cell_type": "markdown",
   "metadata": {},
   "source": [
    "不加噪声时，各个方案的结果"
   ]
  },
  {
   "cell_type": "code",
   "execution_count": 8,
   "metadata": {
    "collapsed": true
   },
   "outputs": [],
   "source": [
    "cpmg_no_noise = [0.981,0.848,0.831,0.812,0.948,0.979,0.959,0.936,0.999,0.934]\n",
    "se_no_noise =[0.985,0.96,1,1,1,0.987,0.932,0.926,0.995,0.980]\n",
    "scheme1_cp_no_noise = [0.994,0.961,0.903,0.988,1,1,0.993,0.916,0.988,1]\n",
    "scheme2_no_noise = [0.974,0.953,0.92,0.978,0.975,0.782,0.814,0.965,0.973,1]\n",
    "scheme1_se_no_noise = [0.98,0.993,0.97,0.99,0.972,0.948,0.944,0.984,0.929,0.945]"
   ]
  },
  {
   "cell_type": "markdown",
   "metadata": {},
   "source": [
    "Berry phase 的 结果"
   ]
  },
  {
   "cell_type": "code",
   "execution_count": 9,
   "metadata": {
    "collapsed": true
   },
   "outputs": [],
   "source": [
    "bp_se = [[0.2, 0.19, 0.18, 0.2, 0.2],[0.5, -1.44, 0.43, 0.37, -2.03],[1.38, 1.42, 1.38, 1.39, 1.44],\\\n",
    " [2.39, 2.54, 2.41, 2.28, 2.69],[-2.6, -2.73, -2.17, -2.44, -2.6],[-0.44, -0.66, -1.12, -1.07, -0.77],\\\n",
    " [0.56, 0.28, -0.14, 0.64, 0.3],[1.53, 2.16, 2.02, 2.28, -2.65],[0.94, 1.69, 1.65, -2.73, 0.11]]\n",
    "bp_cpmg = [[0.14, 0.18, 0.19, 0.13, 0.16],[0.62, 0.63, 0.59, 0.58, 0.62],[1.47, 1.39, 1.41, 1.27, 1.3],\\\n",
    " [2.35, 2.44, 2.4, 2.41, 2.35],[-2.55, -2.76, -2.4, -2.39, -3.01],[-1.01, -1.1, -0.79, -1.03, -1.24],\\\n",
    " [0.81, 1.01, 0.1, 1.32, -0.46],[2.49, 2.04, 1.5, 1.17, 1.43],[-2.34, 3.11, 1.15, -1.52, -2.09]]\n",
    "bp_scheme1_cpmg = [[0.13, 0.17, 0.17, 0.17, 0.17],[0.69, 0.69, 0.7, 0.7, 0.7],[1.5, 1.53, 1.54, 1.53, 1.49],\\\n",
    " [2.66, 2.67, 2.61, 2.63, 2.66],[-2.06, -2.04, -2.09, -2.08, -2.06],[-0.35, -0.37, -0.34, -0.33, -0.38],\\\n",
    " [1.41, 1.41, 1.44, 1.4, 1.41],[-2.79, -2.75, -2.8, -2.79, -2.82],[-0.59, -0.65, -0.66, -0.67, -0.65]]\n",
    "bp_scheme1_se = [[0.24, 0.23, 0.22, 0.21, 0.22],[0.73, 0.72, 0.74, 0.72, 0.75],[1.66, 1.56, 1.57, 1.52, 1.56],\\\n",
    " [2.7, 2.71, 2.69, 2.71, 2.73],[-2.04, -2.06, -2.08, -2.06, -2.04],[-0.34, -0.31, -0.3, -0.27, -0.29],\\\n",
    " [1.46, 1.43, 1.46, 1.45, 1.48],[-2.81, -2.75, -2.82, -2.77, -2.82],[-0.62, -0.64, -0.62, -0.62, -0.62]]\n",
    "bp_scheme2 = [[2.98, 2.98, 2.99, 2.95, 2.99],[2.49, 2.5, 2.5, 2.52, 2.52],[1.74, 1.73, 1.7, 1.74, 1.71],\\\n",
    " [0.71, 0.71, 0.7, 0.69, 0.7],[-0.49, -0.5, -0.48, -0.53, -0.52],[-2.01, -2.12, -2.04, -2.08, -2.01],\\\n",
    " [2.37, 2.32, 2.38, 2.32, 2.38],[0.57, 0.62, 0.63, 0.53, 0.46],[-1.17, -1.12, -1.16, -1.14, -1.19]]\n",
    "bp = -np.cos(np.array([0.16,0.31,0.47,0.63,0.79,0.94,1.1,1.26,1.41])) * 4 * np.pi"
   ]
  },
  {
   "cell_type": "markdown",
   "metadata": {},
   "source": [
    "### Fig8"
   ]
  },
  {
   "cell_type": "code",
   "execution_count": 10,
   "metadata": {
    "collapsed": false
   },
   "outputs": [
    {
     "data": {
      "text/html": [
       "<div>\n",
       "<style scoped>\n",
       "    .dataframe tbody tr th:only-of-type {\n",
       "        vertical-align: middle;\n",
       "    }\n",
       "\n",
       "    .dataframe tbody tr th {\n",
       "        vertical-align: top;\n",
       "    }\n",
       "\n",
       "    .dataframe thead th {\n",
       "        text-align: right;\n",
       "    }\n",
       "</style>\n",
       "<table border=\"1\" class=\"dataframe\">\n",
       "  <thead>\n",
       "    <tr style=\"text-align: right;\">\n",
       "      <th></th>\n",
       "      <th>bp_scheme1_se</th>\n",
       "      <th>bp_scheme1_se_std</th>\n",
       "      <th>bp_scheme1_cpmg</th>\n",
       "      <th>bp_scheme1_cpmg_std</th>\n",
       "      <th>bp_scheme2</th>\n",
       "      <th>bp_scheme2_std</th>\n",
       "      <th>bp</th>\n",
       "    </tr>\n",
       "  </thead>\n",
       "  <tbody>\n",
       "    <tr>\n",
       "      <th>0</th>\n",
       "      <td>-3.928699</td>\n",
       "      <td>0.003246</td>\n",
       "      <td>-3.948434</td>\n",
       "      <td>0.005093</td>\n",
       "      <td>-3.947927</td>\n",
       "      <td>0.004678</td>\n",
       "      <td>-3.948909</td>\n",
       "    </tr>\n",
       "    <tr>\n",
       "      <th>1</th>\n",
       "      <td>-3.766997</td>\n",
       "      <td>0.003712</td>\n",
       "      <td>-3.778456</td>\n",
       "      <td>0.001559</td>\n",
       "      <td>-3.797685</td>\n",
       "      <td>0.003820</td>\n",
       "      <td>-3.809334</td>\n",
       "    </tr>\n",
       "    <tr>\n",
       "      <th>2</th>\n",
       "      <td>-3.498980</td>\n",
       "      <td>0.014739</td>\n",
       "      <td>-3.516806</td>\n",
       "      <td>0.006172</td>\n",
       "      <td>-3.548766</td>\n",
       "      <td>0.005172</td>\n",
       "      <td>-3.566273</td>\n",
       "    </tr>\n",
       "    <tr>\n",
       "      <th>3</th>\n",
       "      <td>-3.138017</td>\n",
       "      <td>0.004223</td>\n",
       "      <td>-3.157752</td>\n",
       "      <td>0.007146</td>\n",
       "      <td>-3.223454</td>\n",
       "      <td>0.002382</td>\n",
       "      <td>-3.232110</td>\n",
       "    </tr>\n",
       "    <tr>\n",
       "      <th>4</th>\n",
       "      <td>-2.654445</td>\n",
       "      <td>0.004764</td>\n",
       "      <td>-2.657628</td>\n",
       "      <td>0.005550</td>\n",
       "      <td>-2.839572</td>\n",
       "      <td>0.005904</td>\n",
       "      <td>-2.815381</td>\n",
       "    </tr>\n",
       "    <tr>\n",
       "      <th>5</th>\n",
       "      <td>-2.096130</td>\n",
       "      <td>0.007369</td>\n",
       "      <td>-2.112682</td>\n",
       "      <td>0.005904</td>\n",
       "      <td>-2.346828</td>\n",
       "      <td>0.013565</td>\n",
       "      <td>-2.359152</td>\n",
       "    </tr>\n",
       "    <tr>\n",
       "      <th>6</th>\n",
       "      <td>-1.536541</td>\n",
       "      <td>0.005172</td>\n",
       "      <td>-1.549910</td>\n",
       "      <td>0.004318</td>\n",
       "      <td>-1.749301</td>\n",
       "      <td>0.008913</td>\n",
       "      <td>-1.814384</td>\n",
       "    </tr>\n",
       "    <tr>\n",
       "      <th>7</th>\n",
       "      <td>-0.889358</td>\n",
       "      <td>0.009137</td>\n",
       "      <td>-0.888085</td>\n",
       "      <td>0.007259</td>\n",
       "      <td>-1.178890</td>\n",
       "      <td>0.019868</td>\n",
       "      <td>-1.223268</td>\n",
       "    </tr>\n",
       "    <tr>\n",
       "      <th>8</th>\n",
       "      <td>-0.198625</td>\n",
       "      <td>0.002546</td>\n",
       "      <td>-0.204992</td>\n",
       "      <td>0.008913</td>\n",
       "      <td>-0.367966</td>\n",
       "      <td>0.007692</td>\n",
       "      <td>-0.640417</td>\n",
       "    </tr>\n",
       "  </tbody>\n",
       "</table>\n",
       "</div>"
      ],
      "text/plain": [
       "   bp_scheme1_se  bp_scheme1_se_std  bp_scheme1_cpmg  bp_scheme1_cpmg_std  \\\n",
       "0      -3.928699           0.003246        -3.948434             0.005093   \n",
       "1      -3.766997           0.003712        -3.778456             0.001559   \n",
       "2      -3.498980           0.014739        -3.516806             0.006172   \n",
       "3      -3.138017           0.004223        -3.157752             0.007146   \n",
       "4      -2.654445           0.004764        -2.657628             0.005550   \n",
       "5      -2.096130           0.007369        -2.112682             0.005904   \n",
       "6      -1.536541           0.005172        -1.549910             0.004318   \n",
       "7      -0.889358           0.009137        -0.888085             0.007259   \n",
       "8      -0.198625           0.002546        -0.204992             0.008913   \n",
       "\n",
       "   bp_scheme2  bp_scheme2_std        bp  \n",
       "0   -3.947927        0.004678 -3.948909  \n",
       "1   -3.797685        0.003820 -3.809334  \n",
       "2   -3.548766        0.005172 -3.566273  \n",
       "3   -3.223454        0.002382 -3.232110  \n",
       "4   -2.839572        0.005904 -2.815381  \n",
       "5   -2.346828        0.013565 -2.359152  \n",
       "6   -1.749301        0.008913 -1.814384  \n",
       "7   -1.178890        0.019868 -1.223268  \n",
       "8   -0.367966        0.007692 -0.640417  "
      ]
     },
     "execution_count": 10,
     "metadata": {},
     "output_type": "execute_result"
    }
   ],
   "source": [
    "fig_8 = pd.DataFrame(columns=['bp_scheme1_se','bp_scheme1_se_std','bp_scheme1_cpmg','bp_scheme1_cpmg_std','bp_scheme2','bp_scheme2_std','bp'])\n",
    "fig_8.loc[:,'bp_scheme1_se'] = np.array(bp_scheme1_se).mean(axis=1)\n",
    "fig_8.loc[:,'bp_scheme1_se_std'] = np.array(bp_scheme1_se).std(axis=1)\n",
    "fig_8.loc[0:3,'bp_scheme1_se'] = fig_8.loc[0:3,'bp_scheme1_se'] - 4*np.pi\n",
    "fig_8.loc[4:6,'bp_scheme1_se'] = fig_8.loc[4:6,'bp_scheme1_se'] - 2*np.pi\n",
    "fig_8.loc[:,'bp_scheme1_cpmg'] = np.array(bp_scheme1_cpmg).mean(axis=1)\n",
    "fig_8.loc[:,'bp_scheme1_cpmg_std'] = np.array(bp_scheme1_cpmg).std(axis=1)\n",
    "fig_8.loc[0:3,'bp_scheme1_cpmg'] = fig_8.loc[0:3,'bp_scheme1_cpmg'] - 4*np.pi\n",
    "fig_8.loc[4:6,'bp_scheme1_cpmg'] = fig_8.loc[4:6,'bp_scheme1_cpmg'] - 2*np.pi\n",
    "fig_8.loc[:,'bp_scheme2'] = np.array(bp_scheme2).mean(axis=1)\n",
    "fig_8.loc[:,'bp_scheme2_std'] = np.array(bp_scheme2).std(axis=1)\n",
    "fig_8.loc[0:5,'bp_scheme2'] = fig_8.loc[0:5,'bp_scheme2']*(-1) - 3*np.pi\n",
    "fig_8.loc[6:7,'bp_scheme2'] = fig_8.loc[6:7,'bp_scheme2']*(-1) - 1*np.pi\n",
    "fig_8.loc[:,'bp'] = bp\n",
    "fig_8 = fig_8 / np.pi\n",
    "fig_8"
   ]
  },
  {
   "cell_type": "code",
   "execution_count": 11,
   "metadata": {
    "collapsed": true
   },
   "outputs": [],
   "source": [
    "fig_8.to_csv('fig_8.csv')"
   ]
  },
  {
   "cell_type": "markdown",
   "metadata": {},
   "source": [
    "### Fig7"
   ]
  },
  {
   "cell_type": "code",
   "execution_count": 12,
   "metadata": {
    "collapsed": false
   },
   "outputs": [
    {
     "data": {
      "text/html": [
       "<div>\n",
       "<style scoped>\n",
       "    .dataframe tbody tr th:only-of-type {\n",
       "        vertical-align: middle;\n",
       "    }\n",
       "\n",
       "    .dataframe tbody tr th {\n",
       "        vertical-align: top;\n",
       "    }\n",
       "\n",
       "    .dataframe thead th {\n",
       "        text-align: right;\n",
       "    }\n",
       "</style>\n",
       "<table border=\"1\" class=\"dataframe\">\n",
       "  <thead>\n",
       "    <tr style=\"text-align: right;\">\n",
       "      <th></th>\n",
       "      <th>bp_se</th>\n",
       "      <th>bp_se_std</th>\n",
       "      <th>bp_cpmg</th>\n",
       "      <th>bp_cpmg_std</th>\n",
       "      <th>bp</th>\n",
       "    </tr>\n",
       "  </thead>\n",
       "  <tbody>\n",
       "    <tr>\n",
       "      <th>0</th>\n",
       "      <td>-3.938248</td>\n",
       "      <td>0.002546</td>\n",
       "      <td>-3.949070</td>\n",
       "      <td>0.007259</td>\n",
       "      <td>-3.948909</td>\n",
       "    </tr>\n",
       "    <tr>\n",
       "      <th>1</th>\n",
       "      <td>-4.138146</td>\n",
       "      <td>0.343554</td>\n",
       "      <td>-3.806468</td>\n",
       "      <td>0.006172</td>\n",
       "      <td>-3.809334</td>\n",
       "    </tr>\n",
       "    <tr>\n",
       "      <th>2</th>\n",
       "      <td>-3.553730</td>\n",
       "      <td>0.007639</td>\n",
       "      <td>-3.564552</td>\n",
       "      <td>0.023339</td>\n",
       "      <td>-3.566273</td>\n",
       "    </tr>\n",
       "    <tr>\n",
       "      <th>3</th>\n",
       "      <td>-3.216321</td>\n",
       "      <td>0.044808</td>\n",
       "      <td>-3.239239</td>\n",
       "      <td>0.011209</td>\n",
       "      <td>-3.232110</td>\n",
       "    </tr>\n",
       "    <tr>\n",
       "      <th>4</th>\n",
       "      <td>-2.798321</td>\n",
       "      <td>0.061241</td>\n",
       "      <td>-2.834609</td>\n",
       "      <td>0.075040</td>\n",
       "      <td>-2.815381</td>\n",
       "    </tr>\n",
       "    <tr>\n",
       "      <th>5</th>\n",
       "      <td>-2.258468</td>\n",
       "      <td>0.081113</td>\n",
       "      <td>-2.329132</td>\n",
       "      <td>0.046547</td>\n",
       "      <td>-2.359152</td>\n",
       "    </tr>\n",
       "    <tr>\n",
       "      <th>6</th>\n",
       "      <td>-1.895594</td>\n",
       "      <td>0.086973</td>\n",
       "      <td>-1.823020</td>\n",
       "      <td>0.206019</td>\n",
       "      <td>-1.814384</td>\n",
       "    </tr>\n",
       "    <tr>\n",
       "      <th>7</th>\n",
       "      <td>-1.660045</td>\n",
       "      <td>0.597282</td>\n",
       "      <td>-1.450597</td>\n",
       "      <td>0.151331</td>\n",
       "      <td>-1.223268</td>\n",
       "    </tr>\n",
       "    <tr>\n",
       "      <th>8</th>\n",
       "      <td>0.105679</td>\n",
       "      <td>0.520630</td>\n",
       "      <td>-0.107589</td>\n",
       "      <td>0.676399</td>\n",
       "      <td>-0.640417</td>\n",
       "    </tr>\n",
       "  </tbody>\n",
       "</table>\n",
       "</div>"
      ],
      "text/plain": [
       "      bp_se  bp_se_std   bp_cpmg  bp_cpmg_std        bp\n",
       "0 -3.938248   0.002546 -3.949070     0.007259 -3.948909\n",
       "1 -4.138146   0.343554 -3.806468     0.006172 -3.809334\n",
       "2 -3.553730   0.007639 -3.564552     0.023339 -3.566273\n",
       "3 -3.216321   0.044808 -3.239239     0.011209 -3.232110\n",
       "4 -2.798321   0.061241 -2.834609     0.075040 -2.815381\n",
       "5 -2.258468   0.081113 -2.329132     0.046547 -2.359152\n",
       "6 -1.895594   0.086973 -1.823020     0.206019 -1.814384\n",
       "7 -1.660045   0.597282 -1.450597     0.151331 -1.223268\n",
       "8  0.105679   0.520630 -0.107589     0.676399 -0.640417"
      ]
     },
     "execution_count": 12,
     "metadata": {},
     "output_type": "execute_result"
    }
   ],
   "source": [
    "fig_7 = pd.DataFrame(columns=['bp_se','bp_se_std','bp_cpmg','bp_cpmg_std','bp'])\n",
    "fig_7.loc[:,'bp_se'] = np.array(bp_se).mean(axis=1)\n",
    "fig_7.loc[:,'bp_se_std'] = np.array(bp_se).std(axis=1)\n",
    "fig_7.loc[0:3,'bp_se'] = fig_7.loc[0:3,'bp_se'] - 4*np.pi\n",
    "fig_7.loc[4:7,'bp_se'] = fig_7.loc[4:7,'bp_se'] - 2*np.pi\n",
    "fig_7.loc[:,'bp_cpmg'] = np.array(bp_cpmg).mean(axis=1)\n",
    "fig_7.loc[:,'bp_cpmg_std'] = np.array(bp_cpmg).std(axis=1)\n",
    "fig_7.loc[0:3,'bp_cpmg'] = fig_7.loc[0:3,'bp_cpmg'] - 4*np.pi\n",
    "fig_7.loc[4:7,'bp_cpmg'] = fig_7.loc[4:7,'bp_cpmg'] - 2*np.pi\n",
    "fig_7.loc[:,'bp'] = bp\n",
    "fig_7 = fig_7 / np.pi\n",
    "fig_7"
   ]
  },
  {
   "cell_type": "code",
   "execution_count": 13,
   "metadata": {
    "collapsed": true
   },
   "outputs": [],
   "source": [
    "fig_7.to_csv('fig_7.csv')"
   ]
  },
  {
   "cell_type": "markdown",
   "metadata": {},
   "source": [
    "## Export data"
   ]
  },
  {
   "cell_type": "markdown",
   "metadata": {},
   "source": [
    "### Fig1"
   ]
  },
  {
   "cell_type": "code",
   "execution_count": 23,
   "metadata": {
    "collapsed": false
   },
   "outputs": [
    {
     "data": {
      "text/html": [
       "<div>\n",
       "<style scoped>\n",
       "    .dataframe tbody tr th:only-of-type {\n",
       "        vertical-align: middle;\n",
       "    }\n",
       "\n",
       "    .dataframe tbody tr th {\n",
       "        vertical-align: top;\n",
       "    }\n",
       "\n",
       "    .dataframe thead th {\n",
       "        text-align: right;\n",
       "    }\n",
       "</style>\n",
       "<table border=\"1\" class=\"dataframe\">\n",
       "  <thead>\n",
       "    <tr style=\"text-align: right;\">\n",
       "      <th></th>\n",
       "      <th>se_exper</th>\n",
       "      <th>se_std</th>\n",
       "      <th>cpmg_exper</th>\n",
       "      <th>cpmg_std</th>\n",
       "      <th>bp_se_thero</th>\n",
       "      <th>bp_cpmg_thero</th>\n",
       "    </tr>\n",
       "  </thead>\n",
       "  <tbody>\n",
       "    <tr>\n",
       "      <th>0</th>\n",
       "      <td>0.9742</td>\n",
       "      <td>0.004622</td>\n",
       "      <td>0.9962</td>\n",
       "      <td>0.003655</td>\n",
       "      <td>0.99</td>\n",
       "      <td>0.99</td>\n",
       "    </tr>\n",
       "    <tr>\n",
       "      <th>1</th>\n",
       "      <td>1.0178</td>\n",
       "      <td>0.007305</td>\n",
       "      <td>0.9920</td>\n",
       "      <td>0.009839</td>\n",
       "      <td>0.99</td>\n",
       "      <td>0.99</td>\n",
       "    </tr>\n",
       "    <tr>\n",
       "      <th>2</th>\n",
       "      <td>0.9952</td>\n",
       "      <td>0.008424</td>\n",
       "      <td>1.0094</td>\n",
       "      <td>0.014179</td>\n",
       "      <td>0.97</td>\n",
       "      <td>0.97</td>\n",
       "    </tr>\n",
       "    <tr>\n",
       "      <th>3</th>\n",
       "      <td>1.0278</td>\n",
       "      <td>0.027088</td>\n",
       "      <td>1.1618</td>\n",
       "      <td>0.021609</td>\n",
       "      <td>0.92</td>\n",
       "      <td>0.89</td>\n",
       "    </tr>\n",
       "    <tr>\n",
       "      <th>4</th>\n",
       "      <td>0.6646</td>\n",
       "      <td>0.056127</td>\n",
       "      <td>0.7590</td>\n",
       "      <td>0.035123</td>\n",
       "      <td>0.78</td>\n",
       "      <td>0.78</td>\n",
       "    </tr>\n",
       "    <tr>\n",
       "      <th>5</th>\n",
       "      <td>0.6382</td>\n",
       "      <td>0.128876</td>\n",
       "      <td>0.6358</td>\n",
       "      <td>0.075634</td>\n",
       "      <td>0.62</td>\n",
       "      <td>0.62</td>\n",
       "    </tr>\n",
       "    <tr>\n",
       "      <th>6</th>\n",
       "      <td>0.5514</td>\n",
       "      <td>0.170761</td>\n",
       "      <td>0.5234</td>\n",
       "      <td>0.077585</td>\n",
       "      <td>0.45</td>\n",
       "      <td>0.53</td>\n",
       "    </tr>\n",
       "    <tr>\n",
       "      <th>7</th>\n",
       "      <td>0.8620</td>\n",
       "      <td>0.180139</td>\n",
       "      <td>0.8482</td>\n",
       "      <td>0.200573</td>\n",
       "      <td>0.31</td>\n",
       "      <td>0.26</td>\n",
       "    </tr>\n",
       "    <tr>\n",
       "      <th>8</th>\n",
       "      <td>0.2782</td>\n",
       "      <td>0.121763</td>\n",
       "      <td>0.4776</td>\n",
       "      <td>0.105765</td>\n",
       "      <td>0.20</td>\n",
       "      <td>0.19</td>\n",
       "    </tr>\n",
       "  </tbody>\n",
       "</table>\n",
       "</div>"
      ],
      "text/plain": [
       "   se_exper    se_std  cpmg_exper  cpmg_std  bp_se_thero  bp_cpmg_thero\n",
       "0    0.9742  0.004622      0.9962  0.003655         0.99           0.99\n",
       "1    1.0178  0.007305      0.9920  0.009839         0.99           0.99\n",
       "2    0.9952  0.008424      1.0094  0.014179         0.97           0.97\n",
       "3    1.0278  0.027088      1.1618  0.021609         0.92           0.89\n",
       "4    0.6646  0.056127      0.7590  0.035123         0.78           0.78\n",
       "5    0.6382  0.128876      0.6358  0.075634         0.62           0.62\n",
       "6    0.5514  0.170761      0.5234  0.077585         0.45           0.53\n",
       "7    0.8620  0.180139      0.8482  0.200573         0.31           0.26\n",
       "8    0.2782  0.121763      0.4776  0.105765         0.20           0.19"
      ]
     },
     "execution_count": 23,
     "metadata": {},
     "output_type": "execute_result"
    }
   ],
   "source": [
    "fig_1 = pd.DataFrame(columns=['se_exper','se_std','cpmg_exper','cpmg_std','bp_se_thero','bp_cpmg_thero'])\n",
    "fig_1.loc[:,'se_exper'] = np.array(se_exper).mean(axis=1) - np.concatenate(np.array(bp_se_no_noise)) + 1\n",
    "fig_1.loc[:,'se_std'] = np.array(se_exper).std(axis=1)\n",
    "fig_1.loc[:,'cpmg_exper'] = np.array(cpmg_exper).mean(axis=1) - np.concatenate(np.array(bp_cpmg_no_noise)) + 1\n",
    "fig_1.loc[:,'cpmg_std'] = np.array(cpmg_exper).std(axis=1)\n",
    "fig_1.loc[:,'bp_se_thero'] = bp_se_thero\n",
    "fig_1.loc[:,'bp_cpmg_thero'] = bp_cpmg_thero\n",
    "fig_1"
   ]
  },
  {
   "cell_type": "code",
   "execution_count": 156,
   "metadata": {
    "collapsed": true
   },
   "outputs": [],
   "source": [
    "fig_1.to_csv('fig_1.csv')"
   ]
  },
  {
   "cell_type": "markdown",
   "metadata": {},
   "source": [
    "### Fig2"
   ]
  },
  {
   "cell_type": "code",
   "execution_count": 25,
   "metadata": {
    "collapsed": false
   },
   "outputs": [
    {
     "data": {
      "text/html": [
       "<div>\n",
       "<style scoped>\n",
       "    .dataframe tbody tr th:only-of-type {\n",
       "        vertical-align: middle;\n",
       "    }\n",
       "\n",
       "    .dataframe tbody tr th {\n",
       "        vertical-align: top;\n",
       "    }\n",
       "\n",
       "    .dataframe thead th {\n",
       "        text-align: right;\n",
       "    }\n",
       "</style>\n",
       "<table border=\"1\" class=\"dataframe\">\n",
       "  <thead>\n",
       "    <tr style=\"text-align: right;\">\n",
       "      <th></th>\n",
       "      <th>scheme1_se_exper</th>\n",
       "      <th>scheme1_se_std</th>\n",
       "      <th>scheme1_cpmg_exper</th>\n",
       "      <th>scheme1_cpmg_std</th>\n",
       "      <th>scheme2_exper</th>\n",
       "      <th>scheme2_std</th>\n",
       "      <th>scheme1_se_thero</th>\n",
       "      <th>scheme1_cpmg_thero</th>\n",
       "      <th>scheme2_thero</th>\n",
       "    </tr>\n",
       "  </thead>\n",
       "  <tbody>\n",
       "    <tr>\n",
       "      <th>0</th>\n",
       "      <td>0.9722</td>\n",
       "      <td>0.004167</td>\n",
       "      <td>0.9802</td>\n",
       "      <td>0.004707</td>\n",
       "      <td>0.9550</td>\n",
       "      <td>0.003286</td>\n",
       "      <td>0.99</td>\n",
       "      <td>0.99</td>\n",
       "      <td>0.99</td>\n",
       "    </tr>\n",
       "    <tr>\n",
       "      <th>1</th>\n",
       "      <td>0.9750</td>\n",
       "      <td>0.007014</td>\n",
       "      <td>0.9264</td>\n",
       "      <td>0.095309</td>\n",
       "      <td>0.9422</td>\n",
       "      <td>0.010943</td>\n",
       "      <td>0.99</td>\n",
       "      <td>0.99</td>\n",
       "      <td>0.99</td>\n",
       "    </tr>\n",
       "    <tr>\n",
       "      <th>2</th>\n",
       "      <td>0.9496</td>\n",
       "      <td>0.016082</td>\n",
       "      <td>0.9668</td>\n",
       "      <td>0.001470</td>\n",
       "      <td>0.9608</td>\n",
       "      <td>0.004750</td>\n",
       "      <td>0.99</td>\n",
       "      <td>0.99</td>\n",
       "      <td>0.99</td>\n",
       "    </tr>\n",
       "    <tr>\n",
       "      <th>3</th>\n",
       "      <td>0.8950</td>\n",
       "      <td>0.007294</td>\n",
       "      <td>0.9216</td>\n",
       "      <td>0.003200</td>\n",
       "      <td>0.9802</td>\n",
       "      <td>0.004261</td>\n",
       "      <td>0.98</td>\n",
       "      <td>0.98</td>\n",
       "      <td>0.99</td>\n",
       "    </tr>\n",
       "    <tr>\n",
       "      <th>4</th>\n",
       "      <td>0.8646</td>\n",
       "      <td>0.010670</td>\n",
       "      <td>0.8578</td>\n",
       "      <td>0.005269</td>\n",
       "      <td>0.9324</td>\n",
       "      <td>0.002653</td>\n",
       "      <td>0.98</td>\n",
       "      <td>0.98</td>\n",
       "      <td>0.98</td>\n",
       "    </tr>\n",
       "    <tr>\n",
       "      <th>5</th>\n",
       "      <td>0.9176</td>\n",
       "      <td>0.007736</td>\n",
       "      <td>0.9416</td>\n",
       "      <td>0.004317</td>\n",
       "      <td>0.8292</td>\n",
       "      <td>0.022551</td>\n",
       "      <td>0.98</td>\n",
       "      <td>0.99</td>\n",
       "      <td>0.95</td>\n",
       "    </tr>\n",
       "    <tr>\n",
       "      <th>6</th>\n",
       "      <td>0.9456</td>\n",
       "      <td>0.007473</td>\n",
       "      <td>0.9552</td>\n",
       "      <td>0.008376</td>\n",
       "      <td>0.7864</td>\n",
       "      <td>0.025788</td>\n",
       "      <td>0.98</td>\n",
       "      <td>0.98</td>\n",
       "      <td>0.92</td>\n",
       "    </tr>\n",
       "    <tr>\n",
       "      <th>7</th>\n",
       "      <td>0.8138</td>\n",
       "      <td>0.014372</td>\n",
       "      <td>0.7982</td>\n",
       "      <td>0.038044</td>\n",
       "      <td>0.9044</td>\n",
       "      <td>0.023277</td>\n",
       "      <td>0.96</td>\n",
       "      <td>0.95</td>\n",
       "      <td>0.95</td>\n",
       "    </tr>\n",
       "    <tr>\n",
       "      <th>8</th>\n",
       "      <td>0.8886</td>\n",
       "      <td>0.005571</td>\n",
       "      <td>0.9024</td>\n",
       "      <td>0.016463</td>\n",
       "      <td>0.8934</td>\n",
       "      <td>0.018315</td>\n",
       "      <td>0.99</td>\n",
       "      <td>0.99</td>\n",
       "      <td>0.97</td>\n",
       "    </tr>\n",
       "  </tbody>\n",
       "</table>\n",
       "</div>"
      ],
      "text/plain": [
       "   scheme1_se_exper  scheme1_se_std  scheme1_cpmg_exper  scheme1_cpmg_std  \\\n",
       "0            0.9722        0.004167              0.9802          0.004707   \n",
       "1            0.9750        0.007014              0.9264          0.095309   \n",
       "2            0.9496        0.016082              0.9668          0.001470   \n",
       "3            0.8950        0.007294              0.9216          0.003200   \n",
       "4            0.8646        0.010670              0.8578          0.005269   \n",
       "5            0.9176        0.007736              0.9416          0.004317   \n",
       "6            0.9456        0.007473              0.9552          0.008376   \n",
       "7            0.8138        0.014372              0.7982          0.038044   \n",
       "8            0.8886        0.005571              0.9024          0.016463   \n",
       "\n",
       "   scheme2_exper  scheme2_std  scheme1_se_thero  scheme1_cpmg_thero  \\\n",
       "0         0.9550     0.003286              0.99                0.99   \n",
       "1         0.9422     0.010943              0.99                0.99   \n",
       "2         0.9608     0.004750              0.99                0.99   \n",
       "3         0.9802     0.004261              0.98                0.98   \n",
       "4         0.9324     0.002653              0.98                0.98   \n",
       "5         0.8292     0.022551              0.98                0.99   \n",
       "6         0.7864     0.025788              0.98                0.98   \n",
       "7         0.9044     0.023277              0.96                0.95   \n",
       "8         0.8934     0.018315              0.99                0.99   \n",
       "\n",
       "   scheme2_thero  \n",
       "0           0.99  \n",
       "1           0.99  \n",
       "2           0.99  \n",
       "3           0.99  \n",
       "4           0.98  \n",
       "5           0.95  \n",
       "6           0.92  \n",
       "7           0.95  \n",
       "8           0.97  "
      ]
     },
     "execution_count": 25,
     "metadata": {},
     "output_type": "execute_result"
    }
   ],
   "source": [
    "fig_2 = pd.DataFrame(columns=['scheme1_se_exper','scheme1_se_std','scheme1_cpmg_exper','scheme1_cpmg_std',\\\n",
    "                              'scheme2_exper','scheme2_std','scheme1_se_thero','scheme1_cpmg_thero', 'scheme2_thero'])\n",
    "fig_2.loc[:,'scheme1_se_exper'] = np.array(scheme1_se_exper).mean(axis=1) \n",
    "fig_2.loc[:,'scheme1_se_std'] = np.array(scheme1_se_exper).std(axis=1)\n",
    "fig_2.loc[:,'scheme2_exper'] = np.array(scheme2_exper).mean(axis=1)\n",
    "fig_2.loc[:,'scheme2_std'] = np.array(scheme2_exper).std(axis=1)\n",
    "fig_2.loc[:,'scheme1_cpmg_exper'] = np.array(scheme1_cpmg_exper).mean(axis=1)\n",
    "fig_2.loc[:,'scheme1_cpmg_std'] = np.array(scheme1_cpmg_exper).std(axis=1)\n",
    "fig_2.loc[:,'scheme1_se_thero'] = scheme1_se_thero\n",
    "fig_2.loc[:,'scheme2_thero'] = scheme2_thero\n",
    "fig_2.loc[:,'scheme1_cpmg_thero'] = scheme1_cpmg_thero\n",
    "fig_2"
   ]
  },
  {
   "cell_type": "code",
   "execution_count": 165,
   "metadata": {
    "collapsed": true
   },
   "outputs": [],
   "source": [
    "fig_2.to_csv('fig_2.csv')"
   ]
  },
  {
   "cell_type": "markdown",
   "metadata": {},
   "source": [
    "### Fig3"
   ]
  },
  {
   "cell_type": "code",
   "execution_count": 28,
   "metadata": {
    "collapsed": false
   },
   "outputs": [
    {
     "data": {
      "text/html": [
       "<div>\n",
       "<style scoped>\n",
       "    .dataframe tbody tr th:only-of-type {\n",
       "        vertical-align: middle;\n",
       "    }\n",
       "\n",
       "    .dataframe tbody tr th {\n",
       "        vertical-align: top;\n",
       "    }\n",
       "\n",
       "    .dataframe thead th {\n",
       "        text-align: right;\n",
       "    }\n",
       "</style>\n",
       "<table border=\"1\" class=\"dataframe\">\n",
       "  <thead>\n",
       "    <tr style=\"text-align: right;\">\n",
       "      <th></th>\n",
       "      <th>scheme1_se_tau_exper</th>\n",
       "      <th>scheme1_se_tau_std</th>\n",
       "      <th>scheme1_cpmg_tau_exper</th>\n",
       "      <th>scheme1_cpmg_tau_std</th>\n",
       "      <th>scheme2_tau_exper</th>\n",
       "      <th>scheme2_tau_std</th>\n",
       "      <th>scheme1_se_tau</th>\n",
       "      <th>scheme1_cpmg_tau</th>\n",
       "      <th>scheme2_tau</th>\n",
       "    </tr>\n",
       "  </thead>\n",
       "  <tbody>\n",
       "    <tr>\n",
       "      <th>0</th>\n",
       "      <td>0.868</td>\n",
       "      <td>0.024819</td>\n",
       "      <td>0.892</td>\n",
       "      <td>0.011662</td>\n",
       "      <td>0.748</td>\n",
       "      <td>0.029257</td>\n",
       "      <td>0.982</td>\n",
       "      <td>0.9970</td>\n",
       "      <td>0.948</td>\n",
       "    </tr>\n",
       "    <tr>\n",
       "      <th>1</th>\n",
       "      <td>0.866</td>\n",
       "      <td>0.004899</td>\n",
       "      <td>0.900</td>\n",
       "      <td>0.006325</td>\n",
       "      <td>0.802</td>\n",
       "      <td>0.027857</td>\n",
       "      <td>0.981</td>\n",
       "      <td>0.9980</td>\n",
       "      <td>0.939</td>\n",
       "    </tr>\n",
       "    <tr>\n",
       "      <th>2</th>\n",
       "      <td>0.856</td>\n",
       "      <td>0.013565</td>\n",
       "      <td>0.890</td>\n",
       "      <td>0.008944</td>\n",
       "      <td>0.774</td>\n",
       "      <td>0.031369</td>\n",
       "      <td>0.980</td>\n",
       "      <td>0.9970</td>\n",
       "      <td>0.934</td>\n",
       "    </tr>\n",
       "    <tr>\n",
       "      <th>3</th>\n",
       "      <td>0.842</td>\n",
       "      <td>0.017205</td>\n",
       "      <td>0.886</td>\n",
       "      <td>0.008000</td>\n",
       "      <td>0.788</td>\n",
       "      <td>0.025612</td>\n",
       "      <td>0.972</td>\n",
       "      <td>0.9940</td>\n",
       "      <td>0.937</td>\n",
       "    </tr>\n",
       "    <tr>\n",
       "      <th>4</th>\n",
       "      <td>0.850</td>\n",
       "      <td>0.014142</td>\n",
       "      <td>0.872</td>\n",
       "      <td>0.027857</td>\n",
       "      <td>0.780</td>\n",
       "      <td>0.028983</td>\n",
       "      <td>0.950</td>\n",
       "      <td>0.9880</td>\n",
       "      <td>0.922</td>\n",
       "    </tr>\n",
       "    <tr>\n",
       "      <th>5</th>\n",
       "      <td>0.760</td>\n",
       "      <td>0.027568</td>\n",
       "      <td>0.848</td>\n",
       "      <td>0.024819</td>\n",
       "      <td>0.702</td>\n",
       "      <td>0.080846</td>\n",
       "      <td>0.887</td>\n",
       "      <td>0.9676</td>\n",
       "      <td>0.889</td>\n",
       "    </tr>\n",
       "    <tr>\n",
       "      <th>6</th>\n",
       "      <td>0.678</td>\n",
       "      <td>0.083522</td>\n",
       "      <td>0.802</td>\n",
       "      <td>0.034871</td>\n",
       "      <td>0.674</td>\n",
       "      <td>0.056071</td>\n",
       "      <td>0.766</td>\n",
       "      <td>0.9200</td>\n",
       "      <td>0.761</td>\n",
       "    </tr>\n",
       "    <tr>\n",
       "      <th>7</th>\n",
       "      <td>0.482</td>\n",
       "      <td>0.090200</td>\n",
       "      <td>0.684</td>\n",
       "      <td>0.068877</td>\n",
       "      <td>0.438</td>\n",
       "      <td>0.090421</td>\n",
       "      <td>0.581</td>\n",
       "      <td>0.7850</td>\n",
       "      <td>0.540</td>\n",
       "    </tr>\n",
       "    <tr>\n",
       "      <th>8</th>\n",
       "      <td>0.334</td>\n",
       "      <td>0.143192</td>\n",
       "      <td>0.468</td>\n",
       "      <td>0.116516</td>\n",
       "      <td>0.408</td>\n",
       "      <td>0.072222</td>\n",
       "      <td>0.442</td>\n",
       "      <td>0.6260</td>\n",
       "      <td>0.305</td>\n",
       "    </tr>\n",
       "    <tr>\n",
       "      <th>9</th>\n",
       "      <td>0.426</td>\n",
       "      <td>0.188106</td>\n",
       "      <td>0.506</td>\n",
       "      <td>0.047159</td>\n",
       "      <td>0.274</td>\n",
       "      <td>0.147051</td>\n",
       "      <td>0.473</td>\n",
       "      <td>0.5230</td>\n",
       "      <td>0.224</td>\n",
       "    </tr>\n",
       "    <tr>\n",
       "      <th>10</th>\n",
       "      <td>0.448</td>\n",
       "      <td>0.115308</td>\n",
       "      <td>0.368</td>\n",
       "      <td>0.141478</td>\n",
       "      <td>0.190</td>\n",
       "      <td>0.136675</td>\n",
       "      <td>0.439</td>\n",
       "      <td>0.4930</td>\n",
       "      <td>0.238</td>\n",
       "    </tr>\n",
       "  </tbody>\n",
       "</table>\n",
       "</div>"
      ],
      "text/plain": [
       "    scheme1_se_tau_exper  scheme1_se_tau_std  scheme1_cpmg_tau_exper  \\\n",
       "0                  0.868            0.024819                   0.892   \n",
       "1                  0.866            0.004899                   0.900   \n",
       "2                  0.856            0.013565                   0.890   \n",
       "3                  0.842            0.017205                   0.886   \n",
       "4                  0.850            0.014142                   0.872   \n",
       "5                  0.760            0.027568                   0.848   \n",
       "6                  0.678            0.083522                   0.802   \n",
       "7                  0.482            0.090200                   0.684   \n",
       "8                  0.334            0.143192                   0.468   \n",
       "9                  0.426            0.188106                   0.506   \n",
       "10                 0.448            0.115308                   0.368   \n",
       "\n",
       "    scheme1_cpmg_tau_std  scheme2_tau_exper  scheme2_tau_std  scheme1_se_tau  \\\n",
       "0               0.011662              0.748         0.029257           0.982   \n",
       "1               0.006325              0.802         0.027857           0.981   \n",
       "2               0.008944              0.774         0.031369           0.980   \n",
       "3               0.008000              0.788         0.025612           0.972   \n",
       "4               0.027857              0.780         0.028983           0.950   \n",
       "5               0.024819              0.702         0.080846           0.887   \n",
       "6               0.034871              0.674         0.056071           0.766   \n",
       "7               0.068877              0.438         0.090421           0.581   \n",
       "8               0.116516              0.408         0.072222           0.442   \n",
       "9               0.047159              0.274         0.147051           0.473   \n",
       "10              0.141478              0.190         0.136675           0.439   \n",
       "\n",
       "    scheme1_cpmg_tau  scheme2_tau  \n",
       "0             0.9970        0.948  \n",
       "1             0.9980        0.939  \n",
       "2             0.9970        0.934  \n",
       "3             0.9940        0.937  \n",
       "4             0.9880        0.922  \n",
       "5             0.9676        0.889  \n",
       "6             0.9200        0.761  \n",
       "7             0.7850        0.540  \n",
       "8             0.6260        0.305  \n",
       "9             0.5230        0.224  \n",
       "10            0.4930        0.238  "
      ]
     },
     "execution_count": 28,
     "metadata": {},
     "output_type": "execute_result"
    }
   ],
   "source": [
    "fig_3 = pd.DataFrame(columns=['scheme1_se_tau_exper','scheme1_se_tau_std','scheme1_cpmg_tau_exper','scheme1_cpmg_tau_std',\\\n",
    "                              'scheme2_tau_exper','scheme2_tau_std','scheme1_se_tau','scheme1_cpmg_tau','scheme2_tau'])\n",
    "fig_3.loc[:,'scheme1_se_tau_exper'] = np.array(scheme1_se_tau_exper).mean(axis=1)\n",
    "fig_3.loc[:,'scheme1_se_tau_std'] = np.array(scheme1_se_tau_exper).std(axis=1)\n",
    "fig_3.loc[:,'scheme1_cpmg_tau_exper'] = np.array(scheme1_cpmg_tau_exper).mean(axis=1)\n",
    "fig_3.loc[:,'scheme1_cpmg_tau_std'] = np.array(scheme1_cpmg_tau_exper).std(axis=1)\n",
    "fig_3.loc[:,'scheme2_tau_exper'] = np.array(scheme2_tau_exper).mean(axis=1)\n",
    "fig_3.loc[:,'scheme2_tau_std'] = np.array(scheme2_tau_exper).std(axis=1)\n",
    "fig_3.loc[:,'scheme1_se_tau'] = scheme1_se_tau\n",
    "fig_3.loc[:,'scheme1_cpmg_tau'] = scheme1_cpmg_tau\n",
    "fig_3.loc[:,'scheme2_tau'] = scheme2_tau\n",
    "fig_3"
   ]
  },
  {
   "cell_type": "code",
   "execution_count": 29,
   "metadata": {
    "collapsed": true
   },
   "outputs": [],
   "source": [
    "fig_3.to_csv('fig_3.csv')"
   ]
  },
  {
   "cell_type": "code",
   "execution_count": null,
   "metadata": {
    "collapsed": true
   },
   "outputs": [],
   "source": []
  },
  {
   "cell_type": "code",
   "execution_count": null,
   "metadata": {
    "collapsed": true
   },
   "outputs": [],
   "source": []
  },
  {
   "cell_type": "code",
   "execution_count": null,
   "metadata": {
    "collapsed": true
   },
   "outputs": [],
   "source": []
  },
  {
   "cell_type": "code",
   "execution_count": null,
   "metadata": {
    "collapsed": true
   },
   "outputs": [],
   "source": []
  },
  {
   "cell_type": "code",
   "execution_count": null,
   "metadata": {
    "collapsed": true
   },
   "outputs": [],
   "source": []
  },
  {
   "cell_type": "code",
   "execution_count": null,
   "metadata": {
    "collapsed": true
   },
   "outputs": [],
   "source": []
  },
  {
   "cell_type": "code",
   "execution_count": 626,
   "metadata": {
    "collapsed": false
   },
   "outputs": [
    {
     "name": "stdout",
     "output_type": "stream",
     "text": [
      "0.8293795807280101\n"
     ]
    }
   ],
   "source": [
    "rho_aver = 0\n",
    "P = len(Rho)\n",
    "for j in Rho[:P]:\n",
    "    rho_aver += j\n",
    "rho_aver = rho_aver / P\n",
    "print(abs(rho_aver[1][0][0])/0.5)"
   ]
  },
  {
   "cell_type": "code",
   "execution_count": null,
   "metadata": {
    "collapsed": true
   },
   "outputs": [],
   "source": [
    "[0.859,0.855,0.854,0.877,0.878],[0.8,0.818,0.828,0.794,0.829]   # scheme1_se  0.79 和 1.26 两个点（dt=1e-9）"
   ]
  },
  {
   "cell_type": "code",
   "execution_count": null,
   "metadata": {
    "collapsed": true
   },
   "outputs": [],
   "source": [
    "[[0.977,0.966,0.969,0.973,0.976],[0.978,0.971,0.975,0.965,0.986],[0.962,0.919,0.948,0.961,0.958],\n",
    " [0.9,0.889,0.889,0.907,0.89],[0.849,0.867,0.826,0.835,0.835],[0.928,0.906,0.914,0.924,0.916],\n",
    " [0.953,0.955,0.935,0.944,0.941],[0.78,0.755,0.761,0.731,0.789],[0.889,0.894,0.892,0.878,0.890]]  # scheme1_se\n",
    "\n",
    " [[0.967,0.975,0.972,0.976,0.981],[0.981,0.968,0.971,0.981,0.988],[0.951,0.943,0.948,0.954,0.930],\n",
    " [0.844,0.850,0.795,0.876,0.824],[0.716,0.636,0.554,0.627,0.690],[0.46,0.340,0.688,0.634,0.619],\n",
    " [0.366,0.479,0.513,0.655,0.144],[0.266,0.435,0.488,0.057,0.064],[0.129,0.081,0.385,0.242,0.054]] # measuer_bp_se\n",
    "    \n",
    "[[0.951,0.952,0.957,0.955,0.960],[0.932,0.939,0.962,0.945,0.933],[0.953,0.967,0.961,0.964,0.959],\n",
    " [0.983,0.974,0.986,0.977,0.981],[0.935,0.931,0.931,0.936,0.929],[0.838,0.786,0.847,0.846,0.829],\n",
    " [0.802,0.821,0.796,0.755,0.758],[0.917,0.940,0.899,0.896,0.870],[0.877,0.926,0.883,0.901,0.880]]  # scheme2\n",
    "\n",
    "[[0.977,0.977,0.971,0.982,0.974],[0.961,0.975,0.971,0.964,0.989],[0.933,0.960,0.961,0.969,0.974],\n",
    " [0.877,0.847,0.828,0.830,0.877],[0.705,0.672,0.658,0.730,0.630],[0.469,0.669,0.672,0.648,0.621],\n",
    " [0.535,0.364,0.420,0.363,0.535],[0.471,0.410,0.691,0.495,0.074],[0.433,0.126,0.295,0.383,0.351]]  # measure_bp_cpmg\n",
    "\n",
    "[[0.974,0.984,0.977,0.979,0.987],[0.980,0.970,0.736,0.978,0.968],[0.968,0.964,0.967,0.968,0.967],\n",
    " [0.924,0.922,0.918,0.926,0.918],[0.866,0.855,0.853,0.862,0.853],[0.940,0.938,0.939,0.950,0.941],\n",
    " [0.939,0.958,0.961,0.962,0.956],[0.853,0.762,0.834,0.780,0.762],[0.883,0.914,0.927,0.887,0.901]]  # scheme1_cpmg"
   ]
  },
  {
   "cell_type": "code",
   "execution_count": null,
   "metadata": {
    "collapsed": true
   },
   "outputs": [],
   "source": []
  },
  {
   "cell_type": "code",
   "execution_count": null,
   "metadata": {
    "collapsed": true
   },
   "outputs": [],
   "source": []
  },
  {
   "cell_type": "code",
   "execution_count": null,
   "metadata": {
    "collapsed": true
   },
   "outputs": [],
   "source": []
  },
  {
   "cell_type": "code",
   "execution_count": null,
   "metadata": {
    "collapsed": true
   },
   "outputs": [],
   "source": []
  },
  {
   "cell_type": "markdown",
   "metadata": {},
   "source": [
    "## 极大似然估计"
   ]
  },
  {
   "cell_type": "code",
   "execution_count": 30,
   "metadata": {
    "collapsed": true
   },
   "outputs": [],
   "source": [
    "# 2017-11-10 修正正定问题\n",
    "import qutip as qu\n",
    "import qinfer as qi \n",
    "\n",
    "\n",
    "def ML_EstimateState(n,N,MeasurBasis):\n",
    "    ''' Give result and measurement Basis to estimate the density matrix of the state\n",
    "    \n",
    "    n: success measurement shots\n",
    "    N: total measurement shots\n",
    "    MeasurBasis: measurement basis used in the experiment\n",
    "    '''\n",
    "    # judge how many qubits\n",
    "    dims = MeasurBasis[0].dims[0]\n",
    "    dim = np.product(dims)\n",
    "    \n",
    "    def Gen_GM_Basis (dims): \n",
    "        ibasis = qi.tomography.gell_mann_basis(dims[0])\n",
    "        ibasis = ibasis[range(len(ibasis))]\n",
    "        if (len(dims) > 1):\n",
    "            return [ qu.tensor(e, e1) for e in ibasis for e1 in  Gen_GM_Basis(dims[1:])]\n",
    "        else:\n",
    "            return ibasis\n",
    "        \n",
    "    B_all = Gen_GM_Basis(dims)\n",
    "    B0 = B_all[0]   #  1/d matrix, d is the dimension = 2**N\n",
    "    B  = B_all[1:]  # pauli matrix list, length d-1\n",
    "    # generate tranform matrix X\n",
    "    X  = [[(qu.ket2dm(Pi)*Bj).tr() for Bj in B] for Pi in MeasurBasis]\n",
    "    X  = np.array(X)\n",
    "    \n",
    "    f = (n+0.5)/(N+1)\n",
    "    Y = f- 1.0/dim\n",
    "    \n",
    "    a = np.sqrt(N/(f*(1-f)))\n",
    "    Y1 = a*Y\n",
    "    X1 = np.array([np.array(Xk)*ak for Xk,ak in zip(X,a)])\n",
    "    \n",
    "    # calculate initial value by linear transform\n",
    "    #x00 = np.real((np.linalg.inv((X.T.dot(X))).dot(X.T)).dot(Y))\n",
    "    x00 = np.zeros(dim**2-1)\n",
    "    \n",
    "    from scipy.optimize import minimize\n",
    "    # estimate bound\n",
    "    #bound = [(0.0, None) for x in x00]\n",
    "\n",
    "    # estimate constraints\n",
    "    def con_fun(x):\n",
    "        d = np.sqrt(len(x)+1)\n",
    "        return 1.0-1.0/d - np.linalg.norm(x, ord=2)**2\n",
    "    constrain = {\n",
    "        'type': 'ineq',\n",
    "        'fun': con_fun\n",
    "    }\n",
    "    # estimate function\n",
    "    def estimate_fun(theta):\n",
    "        return (np.linalg.norm(Y1-X1.dot(theta),ord=2))\n",
    "    # to estimate values\n",
    "#     res = minimize(estimate_fun,x00,constraints=constrain, method = 'SLSQP')\n",
    "    res = minimize(estimate_fun,x00,constraints=constrain, method = 'COBYLA')\n",
    "    rho = np.sum([x*Bi for x, Bi in zip(res.x,B)],axis=0) + B0*B0\n",
    "    return (rho,res)"
   ]
  },
  {
   "cell_type": "code",
   "execution_count": 31,
   "metadata": {
    "collapsed": false
   },
   "outputs": [
    {
     "name": "stdout",
     "output_type": "stream",
     "text": [
      "[ 0.    0.49]\n",
      "[ 0.037 -0.7   -0.016]\n"
     ]
    },
    {
     "data": {
      "text/plain": [
       "     fun: 0.30636206443576858\n",
       "   maxcv: 0.0\n",
       " message: 'Optimization terminated successfully.'\n",
       "    nfev: 113\n",
       "  status: 1\n",
       " success: True\n",
       "       x: array([ 0.037, -0.7  , -0.016])"
      ]
     },
     "execution_count": 31,
     "metadata": {},
     "output_type": "execute_result"
    }
   ],
   "source": [
    "import numpy as np\n",
    "from qutip import basis,fidelity\n",
    "s0=basis(2,0)\n",
    "s1=basis(2,1)\n",
    "s2=basis(2,0)+basis(2,1)\n",
    "s3=basis(2,0)+1.0j*basis(2,1)\n",
    "s4=basis(2,0)-basis(2,1)\n",
    "s5=basis(2,0)-1.0j*basis(2,1)\n",
    "\n",
    "s2 /= s2.norm()\n",
    "s3 /= s3.norm()\n",
    "s4 /= s4.norm()\n",
    "s5 /= s5.norm()\n",
    "\n",
    "\n",
    "proj=[s0,s2,s3]\n",
    "y = np.array([Z,X,Y])\n",
    "N =10000*np.ones(3)\n",
    "\n",
    "# proj=[s0,s1,s3,s2,s5,s4]\n",
    "# y = np.array([0.45,  0.49,  0.97,  0.51,  0.00,  0.51]) # X state\n",
    "# N =10000*np.ones(6)\n",
    "\n",
    "# proj=[s0,s1,s3,s2]\n",
    "# y = np.array([0.45,  0.49,  0.97,  0.51])\n",
    "# N =10000*np.ones(4)\n",
    "\n",
    "# proj=[s0,s1,s5,s4]\n",
    "# y = np.array([0.45,  0.49,  0,  0.51])\n",
    "# N =10000*np.ones(4)\n",
    "\n",
    "a,b = ML_EstimateState(y*10000,N,proj)\n",
    "\n",
    "print(df.iloc[0].values[3:-2])\n",
    "print(b.x)\n",
    "# print((a*a).tr())\n",
    "a.eigenenergies()\n",
    "b"
   ]
  },
  {
   "cell_type": "code",
   "execution_count": 32,
   "metadata": {
    "collapsed": false
   },
   "outputs": [
    {
     "data": {
      "text/latex": [
       "Quantum object: dims = [[2], [2]], shape = (2, 2), type = oper, isherm = True\\begin{equation*}\\left(\\begin{array}{*{11}c}0.526 & (-0.495+0.012j)\\\\(-0.495-0.012j) & 0.474\\\\\\end{array}\\right)\\end{equation*}"
      ],
      "text/plain": [
       "Quantum object: dims = [[2], [2]], shape = (2, 2), type = oper, isherm = True\n",
       "Qobj data =\n",
       "[[ 0.526+0.j    -0.495+0.012j]\n",
       " [-0.495-0.012j  0.474+0.j   ]]"
      ]
     },
     "execution_count": 32,
     "metadata": {},
     "output_type": "execute_result"
    }
   ],
   "source": [
    "a"
   ]
  },
  {
   "cell_type": "code",
   "execution_count": null,
   "metadata": {
    "collapsed": true
   },
   "outputs": [],
   "source": []
  }
 ],
 "metadata": {
  "anaconda-cloud": {},
  "kernelspec": {
   "display_name": "Python [Root]",
   "language": "python",
   "name": "Python [Root]"
  },
  "language_info": {
   "codemirror_mode": {
    "name": "ipython",
    "version": 2
   },
   "file_extension": ".py",
   "mimetype": "text/x-python",
   "name": "python",
   "nbconvert_exporter": "python",
   "pygments_lexer": "ipython2",
   "version": "2.7.12"
  },
  "toc": {
   "nav_menu": {},
   "number_sections": true,
   "sideBar": true,
   "skip_h1_title": false,
   "title_cell": "Table of Contents",
   "title_sidebar": "Contents",
   "toc_cell": false,
   "toc_position": {
    "height": "672px",
    "left": "0px",
    "right": "1114.38px",
    "top": "107px",
    "width": "165px"
   },
   "toc_section_display": "block",
   "toc_window_display": true
  }
 },
 "nbformat": 4,
 "nbformat_minor": 2
}
