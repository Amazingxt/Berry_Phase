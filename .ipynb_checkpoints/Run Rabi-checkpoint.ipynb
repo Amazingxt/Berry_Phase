{
 "cells": [
  {
   "cell_type": "markdown",
   "metadata": {
    "toc": "true"
   },
   "source": [
    " # Table of Contents\n",
    "<div class=\"toc\" style=\"margin-top: 1em;\"><ul class=\"toc-item\" id=\"toc-level0\"><li><span><a href=\"http://localhost:8888/notebooks/Run%20Rabi.ipynb#Socket-Command-Example\" data-toc-modified-id=\"Socket-Command-Example-1\"><span class=\"toc-item-num\">1&nbsp;&nbsp;</span>Socket Command Example</a></span></li><li><span><a href=\"http://localhost:8888/notebooks/Run%20Rabi.ipynb#Set-Task-Coding\" data-toc-modified-id=\"Set-Task-Coding-2\"><span class=\"toc-item-num\">2&nbsp;&nbsp;</span>Set Task Coding</a></span><ul class=\"toc-item\"><li><span><a href=\"http://localhost:8888/notebooks/Run%20Rabi.ipynb#Framework\" data-toc-modified-id=\"Framework-2.1\"><span class=\"toc-item-num\">2.1&nbsp;&nbsp;</span>Framework</a></span></li><li><span><a href=\"http://localhost:8888/notebooks/Run%20Rabi.ipynb#Rabi-Flopping\" data-toc-modified-id=\"Rabi-Flopping-2.2\"><span class=\"toc-item-num\">2.2&nbsp;&nbsp;</span>Rabi Flopping</a></span></li></ul></li></ul></div>"
   ]
  },
  {
   "cell_type": "markdown",
   "metadata": {},
   "source": [
    "Code For Getting Data of KZ Experiment"
   ]
  },
  {
   "cell_type": "markdown",
   "metadata": {},
   "source": [
    "# Socket Command Example"
   ]
  },
  {
   "cell_type": "code",
   "execution_count": 1,
   "metadata": {
    "collapsed": true
   },
   "outputs": [],
   "source": [
    "# from sympy import *\n",
    "# init_printing()\n",
    "%matplotlib inline\n",
    "import matplotlib.pyplot as plt\n",
    "import seaborn as sns\n",
    "import numpy as np\n",
    "from IPython.display import display\n",
    "from IPython.display import Math \n",
    "from math import *\n",
    "import time\n",
    "from IonControlerSocket import TaskSocket\n",
    "\n",
    "# cmd_port = 'tcp://222.195.68.69:5556'\n",
    "# # data port to get raw dataset\n",
    "# data_port = 'tcp://222.195.68.69:5566'\n",
    "\n",
    "# 本地运行\n",
    "cmd_port = 'tcp://localhost:5556'\n",
    "data_port = 'tcp://localhost:5566'\n",
    "\n",
    "# cmd_port = 'tcp://222.195.68.7:5556'\n",
    "# # data port to get raw dataset\n",
    "# data_port = 'tcp://222.195.68.7:5566'\n",
    "\n",
    "ion = TaskSocket(cmd_port=cmd_port, data_port=data_port)\n"
   ]
  },
  {
   "cell_type": "markdown",
   "metadata": {},
   "source": [
    "# Set Task Coding"
   ]
  },
  {
   "cell_type": "markdown",
   "metadata": {},
   "source": [
    "## Framework"
   ]
  },
  {
   "cell_type": "code",
   "execution_count": 2,
   "metadata": {
    "collapsed": true
   },
   "outputs": [],
   "source": [
    "strHeader='''\n",
    "from Tasks.WaveTasks import SpectrumAWGTask\n",
    "import numpy as np\n",
    "'''\n",
    "\n",
    "strSeq = '''\n",
    "seq = [\n",
    "(Cooling|Counting, 1000),\n",
    "(Idle,             {}),\n",
    "(Detecting,        {}),\n",
    "]\n",
    "'''.format(100,100.0)\n",
    "\n",
    "strTask= '''\n",
    "params={\n",
    "    'Sequence': seq,\n",
    "    'Setting' : {\n",
    "        'Cycles per readout':100,\n",
    "    },\n",
    "}\n",
    "\n",
    "Task = SpectrumAWGTask(params)  # set Task\n",
    "'''\n",
    "\n",
    "\n",
    "strPlots='''\n",
    "# set plotters\n",
    "from Tasks.Plotters import qtCountsPlotter as CountPlt\n",
    "from Tasks.Plotters import qtLinesPlotter as LinePlt\n",
    "from Tasks.Plotters import qtStatesPlotter as StatePlt\n",
    "\n",
    "Plotters = [\n",
    "[('counts', CountPlt([0,1]))],\n",
    "[('states', StatePlt([0]))],\n",
    "]\n",
    "'''\n",
    "\n",
    "strDataFolder='''\n",
    "DataFolder = './AntiKZM/data/'\n",
    "'''\n",
    "code = strHeader + strSeq + strTask + strPlots\n",
    "\n",
    "# %time ion.cmd('loadTask','Remote')\n",
    "# %time ion.setCode(code)\n",
    "# import time\n",
    "# time.sleep(1)"
   ]
  },
  {
   "cell_type": "markdown",
   "metadata": {},
   "source": [
    "## Rabi Flopping"
   ]
  },
  {
   "cell_type": "code",
   "execution_count": 15,
   "metadata": {},
   "outputs": [
    {
     "name": "stdout",
     "output_type": "stream",
     "text": [
      "(True, None)\n",
      "(True, 'Start Task: Remote')\n"
     ]
    }
   ],
   "source": [
    "omega_1 = 200e6 * 2 * pi\n",
    "\n",
    "strSeqRabi = '''\n",
    "ts  = np.linspace(0,300,101)\n",
    "\n",
    "seq = [\n",
    "(Cooling|Counting, 1000),\n",
    "(Pumping,          50),\n",
    "(Idle,             1),\n",
    "(MW_Trigger,       0.02),\n",
    "(MW,               ts),\n",
    "(Detecting,        500),\n",
    "(Idle,             1),\n",
    "]\n",
    "'''\n",
    "\n",
    "strPlotsRabi='''\n",
    "# set plotters\n",
    "from Tasks.Plotters import qtCountsPlotter as CountPlt\n",
    "from Tasks.Plotters import qtLinesPlotter as LinePlt\n",
    "from Tasks.Plotters import qtStatesPlotter as StatePlt\n",
    "\n",
    "Plotters = [\n",
    "[('counts', CountPlt([0,1]))],\n",
    "[('states', StatePlt([1],ts))],\n",
    "]\n",
    "'''\n",
    "\n",
    "code = strHeader + strSeqRabi + strTask + strPlotsRabi + strDataFolder\n",
    "# set code first, then load task\n",
    "ion.setCode(code)\n",
    "\n",
    "time.sleep(1)\n",
    "\n",
    "dt = 1e-9\n",
    "N = int(300e-6/dt)\n",
    "ts0 = np.arange(N)*dt\n",
    "wave = 0.1*np.sin(omega_1 * ts0)\n",
    "wave1 = np.vstack((wave,wave))\n",
    "amp1 = 1.0\n",
    "\n",
    "print(ion.cmd('TaskFun', 'setWave',((wave1,wave1),(amp1,amp1))))\n",
    "print(ion.cmd('start'))\n",
    "\n",
    "x,y = ion.getPlotData('states',40000)  # get data\n"
   ]
  },
  {
   "cell_type": "code",
   "execution_count": 16,
   "metadata": {
    "scrolled": true
   },
   "outputs": [
    {
     "name": "stdout",
     "output_type": "stream",
     "text": [
      "6.66457001684e-05\n"
     ]
    },
    {
     "data": {
      "image/png": "[encoded data removed]",
      "text/plain": [
       "<matplotlib.figure.Figure at 0xcb5a908>"
      ]
     },
     "metadata": {},
     "output_type": "display_data"
    }
   ],
   "source": [
    "from scipy.optimize import curve_fit\n",
    "\n",
    "# x,y = ion.getPlotData('states',40000)  # get data\n",
    "\n",
    "# fitting\n",
    "def funSin(x, x0, t0, A, B, tau):\n",
    "    Y = A * np.exp(-(x - x0) / tau) * np.cos(2 * pi * (x - x0) / t0) / 2.0 + B\n",
    "    return Y\n",
    "\n",
    "\n",
    "def fitRabi(t, y):\n",
    "    '''\n",
    "\n",
    "    '''\n",
    "    data_fft = abs(np.fft.fft(y))\n",
    "    pos = max(enumerate(data_fft[1:len(t) / 2]), key=lambda x: x[1])[0]\n",
    "    xmin = t[0]\n",
    "    xmax = t[-1]\n",
    "    xscale = xmax - xmin\n",
    "    t0 = xscale / (pos + 1)\n",
    "#     t0 = 40.0e-6\n",
    "    A = max(y)\n",
    "    B = 0.5\n",
    "    x0 = 0.0\n",
    "    tau = 0.5e-1  # 0.5 ms\n",
    "    op = [x0, t0, A, B, tau]\n",
    "\n",
    "    popt, pcov = curve_fit(funSin, t, y, op)\n",
    "    # perr = np.sqrt(np.diag(pcov)\n",
    "    #print (1.0 / popt[1], popt[1])\n",
    "\n",
    "    return (1.0 / popt[1], popt, pcov)\n",
    "\n",
    "\n",
    "data = y[:,1]\n",
    "W0, popt, pcov = fitRabi(x*1e-6, data)   #fit\n",
    "plt.plot(x,data, 'o')\n",
    "plt.plot(x,funSin(x*1e-6,*popt))\n",
    "\n",
    "print(popt[1])"
   ]
  },
  {
   "cell_type": "code",
   "execution_count": null,
   "metadata": {
    "collapsed": true
   },
   "outputs": [],
   "source": [
    "1/32.0"
   ]
  },
  {
   "cell_type": "code",
   "execution_count": null,
   "metadata": {
    "collapsed": true
   },
   "outputs": [],
   "source": []
  }
 ],
 "metadata": {
  "anaconda-cloud": {},
  "kernelspec": {
   "display_name": "Python [default]",
   "language": "python",
   "name": "python2"
  },
  "language_info": {
   "codemirror_mode": {
    "name": "ipython",
    "version": 2
   },
   "file_extension": ".py",
   "mimetype": "text/x-python",
   "name": "python",
   "nbconvert_exporter": "python",
   "pygments_lexer": "ipython2",
   "version": "2.7.13"
  },
  "toc": {
   "nav_menu": {
    "height": "12px",
    "width": "252px"
   },
   "number_sections": true,
   "sideBar": false,
   "skip_h1_title": false,
   "toc_cell": true,
   "toc_position": {
    "height": "313px",
    "left": "1px",
    "right": "1056.67px",
    "top": "107px",
    "width": "185px"
   },
   "toc_section_display": "block",
   "toc_window_display": true
  }
 },
 "nbformat": 4,
 "nbformat_minor": 2
}
