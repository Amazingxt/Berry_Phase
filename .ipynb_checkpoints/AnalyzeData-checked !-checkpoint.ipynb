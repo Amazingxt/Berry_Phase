{
 "cells": [
  {
   "cell_type": "markdown",
   "metadata": {},
   "source": [
    "# import modules"
   ]
  },
  {
   "cell_type": "code",
   "execution_count": 1,
   "metadata": {},
   "outputs": [],
   "source": [
    "from datetime import datetime\n",
    "import pickle\n",
    "import gzip\n",
    "import numpy as np\n",
    "from scipy.linalg import eig,norm\n",
    "from math import *\n",
    "from qutip import parfor,qeye,sigmax,sigmay,sigmaz\n",
    "from qutip import *\n",
    "np.set_printoptions(precision=3)\n",
    "from IPython.display import display\n",
    "import seaborn as sns\n",
    "\n",
    "%matplotlib inline\n",
    "\n",
    "import pandas as pd\n",
    "from os import listdir\n",
    "from os.path import isfile, join"
   ]
  },
  {
   "cell_type": "markdown",
   "metadata": {},
   "source": [
    "# Analyze  data"
   ]
  },
  {
   "cell_type": "markdown",
   "metadata": {},
   "source": [
    "## import data"
   ]
  },
  {
   "cell_type": "code",
   "execution_count": 192,
   "metadata": {},
   "outputs": [],
   "source": [
    "N = 10 # measurements repeats number\n",
    "mypath = './data/berry_phase/'\n",
    "\n",
    "files = [f for f in listdir(mypath)]\n",
    "\n",
    "df = pd.DataFrame(columns=('measures', 'S0','S1','Sx+','Sy+','Sx-','Sy-'))\n",
    "\n",
    "BP = []\n",
    "W = []\n",
    "\n",
    "for fname in files:\n",
    "    f = gzip.open(mypath+fname, 'rb')\n",
    "    head = pickle.load(f)\n",
    "    for i in range(N):\n",
    "        t, ii , data = pickle.load(f)\n",
    "        m = np.average((data < 1.5)*1.0,axis=0)[1::2]\n",
    "        df.loc[len(df)+1] = [i] + list(m)\n",
    "    f.close()\n",
    "\n",
    "    Z = df.mean(axis=0)[1]  \n",
    "    X = df.mean(axis=0)[3]\n",
    "    Y = df.mean(axis=0)[4]\n",
    "    Pz = 1-2*Z\n",
    "    Px = 2*X-1\n",
    "    Py = 2*Y-1\n",
    "    rho = (qeye(2)+Px*sigmax()+Py*sigmay()+Pz*sigmaz())/2\n",
    "    bp = np.angle(rho[1][0][0])-0*pi\n",
    "    w = abs(rho[1][0][0])/0.5\n",
    "    BP.append(bp)\n",
    "    W.append(w)\n",
    "data = {'Berry Phase':BP, 'W':W}\n",
    "df = pd.DataFrame(data)\n",
    "df.to_csv('measure_bp.csv')"
   ]
  },
  {
   "cell_type": "code",
   "execution_count": 193,
   "metadata": {},
   "outputs": [
    {
     "data": {
      "text/html": [
       "<div>\n",
       "<style scoped>\n",
       "    .dataframe tbody tr th:only-of-type {\n",
       "        vertical-align: middle;\n",
       "    }\n",
       "\n",
       "    .dataframe tbody tr th {\n",
       "        vertical-align: top;\n",
       "    }\n",
       "\n",
       "    .dataframe thead th {\n",
       "        text-align: right;\n",
       "    }\n",
       "</style>\n",
       "<table border=\"1\" class=\"dataframe\">\n",
       "  <thead>\n",
       "    <tr style=\"text-align: right;\">\n",
       "      <th></th>\n",
       "      <th>Berry Phase</th>\n",
       "      <th>W</th>\n",
       "    </tr>\n",
       "  </thead>\n",
       "  <tbody>\n",
       "    <tr>\n",
       "      <th>0</th>\n",
       "      <td>0.172279</td>\n",
       "      <td>0.968335</td>\n",
       "    </tr>\n",
       "    <tr>\n",
       "      <th>1</th>\n",
       "      <td>0.432408</td>\n",
       "      <td>0.873387</td>\n",
       "    </tr>\n",
       "    <tr>\n",
       "      <th>2</th>\n",
       "      <td>0.697549</td>\n",
       "      <td>0.698487</td>\n",
       "    </tr>\n",
       "    <tr>\n",
       "      <th>3</th>\n",
       "      <td>0.872137</td>\n",
       "      <td>0.489745</td>\n",
       "    </tr>\n",
       "    <tr>\n",
       "      <th>4</th>\n",
       "      <td>0.844451</td>\n",
       "      <td>0.335471</td>\n",
       "    </tr>\n",
       "  </tbody>\n",
       "</table>\n",
       "</div>"
      ],
      "text/plain": [
       "   Berry Phase         W\n",
       "0     0.172279  0.968335\n",
       "1     0.432408  0.873387\n",
       "2     0.697549  0.698487\n",
       "3     0.872137  0.489745\n",
       "4     0.844451  0.335471"
      ]
     },
     "execution_count": 193,
     "metadata": {},
     "output_type": "execute_result"
    }
   ],
   "source": [
    "a"
   ]
  },
  {
   "cell_type": "markdown",
   "metadata": {
    "collapsed": true
   },
   "source": [
    "## Tomography"
   ]
  },
  {
   "cell_type": "markdown",
   "metadata": {},
   "source": [
    "## 非极大似然估计"
   ]
  },
  {
   "cell_type": "markdown",
   "metadata": {},
   "source": [
    "## 极大似然估计"
   ]
  },
  {
   "cell_type": "code",
   "execution_count": 30,
   "metadata": {
    "collapsed": true
   },
   "outputs": [],
   "source": [
    "# 2017-11-10 修正正定问题\n",
    "import qutip as qu\n",
    "import qinfer as qi \n",
    "\n",
    "\n",
    "def ML_EstimateState(n,N,MeasurBasis):\n",
    "    ''' Give result and measurement Basis to estimate the density matrix of the state\n",
    "    \n",
    "    n: success measurement shots\n",
    "    N: total measurement shots\n",
    "    MeasurBasis: measurement basis used in the experiment\n",
    "    '''\n",
    "    # judge how many qubits\n",
    "    dims = MeasurBasis[0].dims[0]\n",
    "    dim = np.product(dims)\n",
    "    \n",
    "    def Gen_GM_Basis (dims): \n",
    "        ibasis = qi.tomography.gell_mann_basis(dims[0])\n",
    "        ibasis = ibasis[range(len(ibasis))]\n",
    "        if (len(dims) > 1):\n",
    "            return [ qu.tensor(e, e1) for e in ibasis for e1 in  Gen_GM_Basis(dims[1:])]\n",
    "        else:\n",
    "            return ibasis\n",
    "        \n",
    "    B_all = Gen_GM_Basis(dims)\n",
    "    B0 = B_all[0]   #  1/d matrix, d is the dimension = 2**N\n",
    "    B  = B_all[1:]  # pauli matrix list, length d-1\n",
    "    # generate tranform matrix X\n",
    "    X  = [[(qu.ket2dm(Pi)*Bj).tr() for Bj in B] for Pi in MeasurBasis]\n",
    "    X  = np.array(X)\n",
    "    \n",
    "    f = (n+0.5)/(N+1)\n",
    "    Y = f- 1.0/dim\n",
    "    \n",
    "    a = np.sqrt(N/(f*(1-f)))\n",
    "    Y1 = a*Y\n",
    "    X1 = np.array([np.array(Xk)*ak for Xk,ak in zip(X,a)])\n",
    "    \n",
    "    # calculate initial value by linear transform\n",
    "    #x00 = np.real((np.linalg.inv((X.T.dot(X))).dot(X.T)).dot(Y))\n",
    "    x00 = np.zeros(dim**2-1)\n",
    "    \n",
    "    from scipy.optimize import minimize\n",
    "    # estimate bound\n",
    "    #bound = [(0.0, None) for x in x00]\n",
    "\n",
    "    # estimate constraints\n",
    "    def con_fun(x):\n",
    "        d = np.sqrt(len(x)+1)\n",
    "        return 1.0-1.0/d - np.linalg.norm(x, ord=2)**2\n",
    "    constrain = {\n",
    "        'type': 'ineq',\n",
    "        'fun': con_fun\n",
    "    }\n",
    "    # estimate function\n",
    "    def estimate_fun(theta):\n",
    "        return (np.linalg.norm(Y1-X1.dot(theta),ord=2))\n",
    "    # to estimate values\n",
    "#     res = minimize(estimate_fun,x00,constraints=constrain, method = 'SLSQP')\n",
    "    res = minimize(estimate_fun,x00,constraints=constrain, method = 'COBYLA')\n",
    "    rho = np.sum([x*Bi for x, Bi in zip(res.x,B)],axis=0) + B0*B0\n",
    "    return (rho,res)"
   ]
  },
  {
   "cell_type": "code",
   "execution_count": 31,
   "metadata": {},
   "outputs": [
    {
     "name": "stdout",
     "output_type": "stream",
     "text": [
      "[ 0.    0.49]\n",
      "[ 0.037 -0.7   -0.016]\n"
     ]
    },
    {
     "data": {
      "text/plain": [
       "     fun: 0.30636206443576858\n",
       "   maxcv: 0.0\n",
       " message: 'Optimization terminated successfully.'\n",
       "    nfev: 113\n",
       "  status: 1\n",
       " success: True\n",
       "       x: array([ 0.037, -0.7  , -0.016])"
      ]
     },
     "execution_count": 31,
     "metadata": {},
     "output_type": "execute_result"
    }
   ],
   "source": [
    "import numpy as np\n",
    "from qutip import basis,fidelity\n",
    "s0=basis(2,0)\n",
    "s1=basis(2,1)\n",
    "s2=basis(2,0)+basis(2,1)\n",
    "s3=basis(2,0)+1.0j*basis(2,1)\n",
    "s4=basis(2,0)-basis(2,1)\n",
    "s5=basis(2,0)-1.0j*basis(2,1)\n",
    "\n",
    "s2 /= s2.norm()\n",
    "s3 /= s3.norm()\n",
    "s4 /= s4.norm()\n",
    "s5 /= s5.norm()\n",
    "\n",
    "\n",
    "proj=[s0,s2,s3]\n",
    "y = np.array([Z,X,Y])\n",
    "N =10000*np.ones(3)\n",
    "\n",
    "# proj=[s0,s1,s3,s2,s5,s4]\n",
    "# y = np.array([0.45,  0.49,  0.97,  0.51,  0.00,  0.51]) # X state\n",
    "# N =10000*np.ones(6)\n",
    "\n",
    "# proj=[s0,s1,s3,s2]\n",
    "# y = np.array([0.45,  0.49,  0.97,  0.51])\n",
    "# N =10000*np.ones(4)\n",
    "\n",
    "# proj=[s0,s1,s5,s4]\n",
    "# y = np.array([0.45,  0.49,  0,  0.51])\n",
    "# N =10000*np.ones(4)\n",
    "\n",
    "a,b = ML_EstimateState(y*10000,N,proj)\n",
    "\n",
    "print(df.iloc[0].values[3:-2])\n",
    "print(b.x)\n",
    "# print((a*a).tr())\n",
    "a.eigenenergies()\n",
    "b"
   ]
  },
  {
   "cell_type": "code",
   "execution_count": 32,
   "metadata": {},
   "outputs": [
    {
     "data": {
      "text/latex": [
       "Quantum object: dims = [[2], [2]], shape = (2, 2), type = oper, isherm = True\\begin{equation*}\\left(\\begin{array}{*{11}c}0.526 & (-0.495+0.012j)\\\\(-0.495-0.012j) & 0.474\\\\\\end{array}\\right)\\end{equation*}"
      ],
      "text/plain": [
       "Quantum object: dims = [[2], [2]], shape = (2, 2), type = oper, isherm = True\n",
       "Qobj data =\n",
       "[[ 0.526+0.j    -0.495+0.012j]\n",
       " [-0.495-0.012j  0.474+0.j   ]]"
      ]
     },
     "execution_count": 32,
     "metadata": {},
     "output_type": "execute_result"
    }
   ],
   "source": [
    "a"
   ]
  },
  {
   "cell_type": "markdown",
   "metadata": {
    "collapsed": true
   },
   "source": [
    "# Analyze Multi Date"
   ]
  },
  {
   "cell_type": "code",
   "execution_count": 35,
   "metadata": {
    "collapsed": true
   },
   "outputs": [],
   "source": [
    "rhos = []\n",
    "\n",
    "for i in range(20):\n",
    "    N = 10 # measurements repeats number\n",
    "    # \n",
    "    df = pd.DataFrame(columns=('measures', 'S0', 'Sz','Sx+','Sy+','Sx-','Sy-'))\n",
    "\n",
    "    f = gzip.open('./data/experment'+str(i)+'.dat', 'rb')\n",
    "    head = pickle.load(f)\n",
    "    for i in range(N):\n",
    "        t, ii , data = pickle.load(f)\n",
    "        m = np.average((data > 1.5)*1.0,axis=0)[1::2]\n",
    "        df.loc[len(df)+1] = [i] + list(m)\n",
    "    f.close()\n",
    "    \n",
    "    Z = df.mean(axis=0)[1]  \n",
    "    X = df.mean(axis=0)[3]\n",
    "    Y = df.mean(axis=0)[4]\n",
    "    Pz = 1-2*Z\n",
    "    Px = 2*X-1\n",
    "    Py = 2*Y-1\n",
    "    rho = (qeye(2)+Px*sigmax()+Py*sigmay()+Pz*sigmaz())/2\n",
    "    \n",
    "    rhos.append(rho)"
   ]
  },
  {
   "cell_type": "code",
   "execution_count": 36,
   "metadata": {},
   "outputs": [
    {
     "data": {
      "text/latex": [
       "Quantum object: dims = [[2], [2]], shape = (2, 2), type = oper, isherm = True\\begin{equation*}\\left(\\begin{array}{*{11}c}0.626 & (-0.059+0.105j)\\\\(-0.059-0.105j) & 0.374\\\\\\end{array}\\right)\\end{equation*}"
      ],
      "text/plain": [
       "Quantum object: dims = [[2], [2]], shape = (2, 2), type = oper, isherm = True\n",
       "Qobj data =\n",
       "[[ 0.626+0.j    -0.059+0.105j]\n",
       " [-0.059-0.105j  0.374+0.j   ]]"
      ]
     },
     "execution_count": 36,
     "metadata": {},
     "output_type": "execute_result"
    }
   ],
   "source": [
    "Rho = 0\n",
    "P = len(rhos)\n",
    "for i in range(P):\n",
    "    Rho += rhos[i]\n",
    "Rho /= P\n",
    "Rho"
   ]
  },
  {
   "cell_type": "code",
   "execution_count": null,
   "metadata": {
    "collapsed": true
   },
   "outputs": [],
   "source": []
  },
  {
   "cell_type": "code",
   "execution_count": null,
   "metadata": {
    "collapsed": true
   },
   "outputs": [],
   "source": []
  }
 ],
 "metadata": {
  "anaconda-cloud": {},
  "kernelspec": {
   "display_name": "Python 3",
   "language": "python",
   "name": "python3"
  },
  "language_info": {
   "codemirror_mode": {
    "name": "ipython",
    "version": 3
   },
   "file_extension": ".py",
   "mimetype": "text/x-python",
   "name": "python",
   "nbconvert_exporter": "python",
   "pygments_lexer": "ipython3",
   "version": "3.5.2"
  },
  "toc": {
   "nav_menu": {},
   "number_sections": true,
   "sideBar": true,
   "skip_h1_title": false,
   "title_cell": "Table of Contents",
   "title_sidebar": "Contents",
   "toc_cell": false,
   "toc_position": {
    "height": "672px",
    "left": "0px",
    "right": "1114.38px",
    "top": "107px",
    "width": "212px"
   },
   "toc_section_display": "block",
   "toc_window_display": true
  }
 },
 "nbformat": 4,
 "nbformat_minor": 2
}
